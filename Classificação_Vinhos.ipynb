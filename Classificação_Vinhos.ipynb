{
  "nbformat": 4,
  "nbformat_minor": 0,
  "metadata": {
    "colab": {
      "name": "Classificação_Vinhos.ipynb",
      "provenance": [],
      "authorship_tag": "ABX9TyMZoe2FIJbemoyT8HL6MNin",
      "include_colab_link": true
    },
    "kernelspec": {
      "name": "python3",
      "display_name": "Python 3"
    },
    "language_info": {
      "name": "python"
    }
  },
  "cells": [
    {
      "cell_type": "markdown",
      "metadata": {
        "id": "view-in-github",
        "colab_type": "text"
      },
      "source": [
        "<a href=\"https://colab.research.google.com/github/profandersonvanin01/ml_classificacao_vinhos/blob/main/Classifica%C3%A7%C3%A3o_Vinhos.ipynb\" target=\"_parent\"><img src=\"https://colab.research.google.com/assets/colab-badge.svg\" alt=\"Open In Colab\"/></a>"
      ]
    },
    {
      "cell_type": "markdown",
      "source": [
        "# Machine Learning para a Classificação de Vinhos"
      ],
      "metadata": {
        "id": "TLOcWkhBCJVF"
      }
    },
    {
      "cell_type": "markdown",
      "source": [
        "Base de dados: https://www.kaggle.com/datasets/dell4010/wine-dataset"
      ],
      "metadata": {
        "id": "GzhwZy7vCOzC"
      }
    },
    {
      "cell_type": "markdown",
      "source": [
        "O principal objetivo deste programa é criar um modelo de Machine Learning que seja capaz de classificar, de acordo com algumas propriedades, se um vinho é tinto ou branco."
      ],
      "metadata": {
        "id": "t1BMn9ipFWMS"
      }
    },
    {
      "cell_type": "code",
      "execution_count": 3,
      "metadata": {
        "id": "oE_jPCWWBuwy"
      },
      "outputs": [],
      "source": [
        "#Importação da biblioteca Pandas\n",
        "import pandas as pd"
      ]
    },
    {
      "cell_type": "code",
      "source": [
        "#Carregamento da base de dados direto do Github\n",
        "arquivo = pd.read_csv('https://raw.githubusercontent.com/profandersonvanin01/ml_classificacao_vinhos/main/wine_dataset.csv')"
      ],
      "metadata": {
        "id": "EIt7Cmi6CNuE"
      },
      "execution_count": 4,
      "outputs": []
    },
    {
      "cell_type": "code",
      "source": [
        "#Pré-Visualização dos 5 primeiros registros da base de dados\n",
        "arquivo.head()"
      ],
      "metadata": {
        "id": "WOTwJ0TNEmHd"
      },
      "execution_count": null,
      "outputs": []
    },
    {
      "cell_type": "code",
      "source": [
        "arquivo.shape()"
      ],
      "metadata": {
        "id": "6tnUlvqcKDvc"
      },
      "execution_count": null,
      "outputs": []
    },
    {
      "cell_type": "code",
      "source": [
        "arquivo"
      ],
      "metadata": {
        "id": "NvWcTigvEn-a"
      },
      "execution_count": null,
      "outputs": []
    },
    {
      "cell_type": "markdown",
      "source": [
        "Repare que na última coluna (style), que é a coluna que mostra se um vinho é tinto ou branco, possui valores no formato de string."
      ],
      "metadata": {
        "id": "KIkimM3oGG_8"
      }
    },
    {
      "cell_type": "markdown",
      "source": [
        "![image.png](data:image/png;base64,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)"
      ],
      "metadata": {
        "id": "CAWWwkcpGeab"
      }
    },
    {
      "cell_type": "markdown",
      "source": [
        "Para os modelos de Machine Learning terem um bom desempenho, é interessante transformar dados categóricos (texto) em formatos numéricos. Neste caso podemos definir que:\n",
        "- vinho tinto = 0\n",
        "- vinho branco = 1"
      ],
      "metadata": {
        "id": "zG8qFCIjGiJJ"
      }
    },
    {
      "cell_type": "code",
      "source": [
        "arquivo['style'] = arquivo['style'].replace('red',0)\n",
        "arquivo['style'] = arquivo['style'].replace('white',1)"
      ],
      "metadata": {
        "id": "ilI2kkyHFvtE"
      },
      "execution_count": 8,
      "outputs": []
    },
    {
      "cell_type": "code",
      "source": [
        "arquivo"
      ],
      "metadata": {
        "id": "lFB_Iv8rHG1F"
      },
      "execution_count": null,
      "outputs": []
    },
    {
      "cell_type": "markdown",
      "source": [
        "Agora precisamos criar dois datasets. Um que será somente a variável alvo (a classificação do vinho) que chamaremos aqui de y, e um outro que terá as variáveis preditoras (todo o restante do dataset menos a variável alvo) que chamaremos de X."
      ],
      "metadata": {
        "id": "nT0PCTKbHbdi"
      }
    },
    {
      "cell_type": "code",
      "source": [
        "y = arquivo['style']\n",
        "X = arquivo.drop('style', axis = 1)"
      ],
      "metadata": {
        "id": "oPQ-oQ2uHIB5"
      },
      "execution_count": 10,
      "outputs": []
    },
    {
      "cell_type": "code",
      "source": [
        "y"
      ],
      "metadata": {
        "id": "ZXgZ6I9rIFTB"
      },
      "execution_count": null,
      "outputs": []
    },
    {
      "cell_type": "code",
      "source": [
        "X"
      ],
      "metadata": {
        "id": "XrryusOdIG1k"
      },
      "execution_count": null,
      "outputs": []
    },
    {
      "cell_type": "markdown",
      "source": [
        "Agora que temos as variaveis preditoras e a alvo separadas, temos que separar os dados de ambas em dados para treinamento e dados para testes.\n",
        "Para isso vamos importar uma biblioteca."
      ],
      "metadata": {
        "id": "gKuVy5v5IxSH"
      }
    },
    {
      "cell_type": "code",
      "source": [
        "from sklearn.model_selection import train_test_split"
      ],
      "metadata": {
        "id": "ouJvzVRNIILa"
      },
      "execution_count": 13,
      "outputs": []
    },
    {
      "cell_type": "code",
      "source": [
        "#Criando os conjuntos de dados de treino e teste:\n",
        "X_treino, X_teste, y_treino, y_teste = train_test_split(X, y, test_size = 0.3)"
      ],
      "metadata": {
        "id": "-IONgyo-JIhq"
      },
      "execution_count": 14,
      "outputs": []
    },
    {
      "cell_type": "markdown",
      "source": [
        "Uma vez que já temos os dados separados. Podemos utilizar algum modelo de Machine Learning para Classificação. Vamos utilizar um modelo chamado ExtraTreesClassifier."
      ],
      "metadata": {
        "id": "tZuZ54LbL0av"
      }
    },
    {
      "cell_type": "code",
      "source": [
        "from sklearn.ensemble import ExtraTreesClassifier"
      ],
      "metadata": {
        "id": "35g2QbWgJcW4"
      },
      "execution_count": 15,
      "outputs": []
    },
    {
      "cell_type": "code",
      "source": [
        "#Criação do modelo:\n",
        "modelo = ExtraTreesClassifier(n_estimators = 10000,max_depth=3,verbose=1)"
      ],
      "metadata": {
        "id": "7slyroFFMJcx"
      },
      "execution_count": 18,
      "outputs": []
    },
    {
      "cell_type": "code",
      "source": [
        "#treino do modelo\n",
        "modelo.fit(X_treino,y_treino)"
      ],
      "metadata": {
        "id": "VtqviCm7M2KK"
      },
      "execution_count": null,
      "outputs": []
    },
    {
      "cell_type": "code",
      "source": [
        "#mostrando resultados do treino\n",
        "resultado = modelo.score(X_teste,y_teste)\n",
        "print('Acurácia: ', resultado)"
      ],
      "metadata": {
        "id": "-Q3z-qlaN1XZ"
      },
      "execution_count": null,
      "outputs": []
    },
    {
      "cell_type": "markdown",
      "source": [
        "Uma vez que o modelo está treinado e sua acurácia atingiu um valor aceitável, vamos fazer alguns testes com valores que o modelo nunca viu.\n",
        "Para facilitar, vamos escolher 3 registros."
      ],
      "metadata": {
        "id": "aIymmQm4O-EL"
      }
    },
    {
      "cell_type": "code",
      "source": [
        "y_teste[400:403]"
      ],
      "metadata": {
        "id": "j-rAQqQVPOB_"
      },
      "execution_count": null,
      "outputs": []
    },
    {
      "cell_type": "code",
      "source": [
        "X_teste[400:403]"
      ],
      "metadata": {
        "id": "z2_YKC7WPVGB"
      },
      "execution_count": null,
      "outputs": []
    },
    {
      "cell_type": "code",
      "source": [
        "#Executando previsões\n",
        "previsoes = modelo.predict(X_teste[400:403])\n",
        "previsoes"
      ],
      "metadata": {
        "id": "zIDJgBP1PYJR"
      },
      "execution_count": null,
      "outputs": []
    },
    {
      "cell_type": "markdown",
      "source": [
        "Uma matriz de confusão é uma tabela que indica os erros e acertos do seu modelo, comparando com o resultado esperado (ou etiquetas/labels). A imagem abaixo demonstra um exemplo de uma matriz de confusão.\n"
      ],
      "metadata": {
        "id": "HGgohBJ2f45E"
      }
    },
    {
      "cell_type": "markdown",
      "source": [
        "![image.png](data:image/png;base64,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)"
      ],
      "metadata": {
        "id": "a9332dsvf-Y7"
      }
    },
    {
      "cell_type": "code",
      "source": [
        "import matplotlib.pyplot as plt\n",
        "from sklearn.metrics import ConfusionMatrixDisplay"
      ],
      "metadata": {
        "id": "M6ZhR54LV9Aw"
      },
      "execution_count": 32,
      "outputs": []
    },
    {
      "cell_type": "code",
      "source": [
        "# Plot non-normalized confusion matrix\n",
        "titles_options = [\n",
        "    (\"Matriz de Confusão, sem normalização\", None),\n",
        "    (\"Matriz de Confusão Normalizada\", \"true\"),\n",
        "]\n",
        "\n",
        "class_names = ['tinto','branco']\n",
        "for title, normalize in titles_options:\n",
        "    disp = ConfusionMatrixDisplay.from_estimator(\n",
        "        modelo,\n",
        "        X_teste,\n",
        "        y_teste,\n",
        "        display_labels=class_names,\n",
        "        cmap=plt.cm.Blues,\n",
        "        normalize=normalize,\n",
        "    )\n",
        "    disp.ax_.set_title(title)\n",
        "\n",
        "    print(title)\n",
        "    print(disp.confusion_matrix)\n",
        "\n",
        "plt.show()"
      ],
      "metadata": {
        "id": "EGmDtTlVWWcP"
      },
      "execution_count": null,
      "outputs": []
    },
    {
      "cell_type": "markdown",
      "source": [
        "## Utilizando outros modelos preditores"
      ],
      "metadata": {
        "id": "bWXcOvdERo16"
      }
    },
    {
      "cell_type": "markdown",
      "source": [
        "## RandonForest"
      ],
      "metadata": {
        "id": "HYX8U676e_49"
      }
    },
    {
      "cell_type": "code",
      "source": [
        "from sklearn.ensemble import RandomForestClassifier"
      ],
      "metadata": {
        "id": "gTzn1wpiP46A"
      },
      "execution_count": 25,
      "outputs": []
    },
    {
      "cell_type": "code",
      "source": [
        "#Criação do modelo:\n",
        "modelo_rf = RandomForestClassifier(max_depth=2, random_state=0, verbose=1) "
      ],
      "metadata": {
        "id": "551IM6CfR2ko"
      },
      "execution_count": 26,
      "outputs": []
    },
    {
      "cell_type": "code",
      "source": [
        "#treino do modelo\n",
        "modelo_rf.fit(X_treino,y_treino)"
      ],
      "metadata": {
        "id": "SrSEa6TfSK7b"
      },
      "execution_count": null,
      "outputs": []
    },
    {
      "cell_type": "code",
      "source": [
        "#mostrando resultados do treino\n",
        "resultado_rf = modelo_rf.score(X_teste,y_teste)\n",
        "print('Acurácia: ', resultado_rf)"
      ],
      "metadata": {
        "id": "93S5QC62SSwX"
      },
      "execution_count": null,
      "outputs": []
    },
    {
      "cell_type": "code",
      "source": [
        "#Executando previsões\n",
        "previsoes_rf = modelo_rf.predict(X_teste[400:403])\n",
        "previsoes_rf"
      ],
      "metadata": {
        "id": "biLOGMzESWvB"
      },
      "execution_count": null,
      "outputs": []
    },
    {
      "cell_type": "code",
      "source": [
        "# Plot non-normalized confusion matrix\n",
        "titles_options = [\n",
        "    (\"Matriz de Confusão, sem normalização\", None),\n",
        "    (\"Matriz de Confusão Normalizada\", \"true\"),\n",
        "]\n",
        "\n",
        "class_names = ['tinto','branco']\n",
        "for title, normalize in titles_options:\n",
        "    disp = ConfusionMatrixDisplay.from_estimator(\n",
        "        modelo_rf,\n",
        "        X_teste,\n",
        "        y_teste,\n",
        "        display_labels=class_names,\n",
        "        cmap=plt.cm.Blues,\n",
        "        normalize=normalize,\n",
        "    )\n",
        "    disp.ax_.set_title(title)\n",
        "\n",
        "    print(title)\n",
        "    print(disp.confusion_matrix)\n",
        "\n",
        "plt.show()"
      ],
      "metadata": {
        "id": "jh7AbN1EY2QR"
      },
      "execution_count": null,
      "outputs": []
    },
    {
      "cell_type": "markdown",
      "source": [
        "## Arvore de Decisão"
      ],
      "metadata": {
        "id": "mua7XbMHfHQl"
      }
    },
    {
      "cell_type": "code",
      "source": [
        "from sklearn.tree import DecisionTreeClassifier\n",
        "arvore = DecisionTreeClassifier(criterion = \"gini\", random_state = 100, max_depth=3, min_samples_leaf=5)\n",
        "arvore.fit(X_treino,y_treino)\n",
        "resultado_arvore = arvore.score(X_teste,y_teste)\n",
        "print('Acurácia: ', resultado_arvore)"
      ],
      "metadata": {
        "id": "RwdiF6lASgHj"
      },
      "execution_count": null,
      "outputs": []
    },
    {
      "cell_type": "code",
      "source": [
        "#Executando previsões\n",
        "previsoes_arvore = arvore.predict(X_teste[400:403])\n",
        "previsoes_arvore"
      ],
      "metadata": {
        "id": "a_2xs8a3VHsE"
      },
      "execution_count": null,
      "outputs": []
    },
    {
      "cell_type": "code",
      "source": [
        "# Plot non-normalized confusion matrix\n",
        "titles_options = [\n",
        "    (\"Matriz de Confusão, sem normalização\", None),\n",
        "    (\"Matriz de Confusão Normalizada\", \"true\"),\n",
        "]\n",
        "\n",
        "class_names = ['tinto','branco']\n",
        "for title, normalize in titles_options:\n",
        "    disp = ConfusionMatrixDisplay.from_estimator(\n",
        "        arvore,\n",
        "        X_teste,\n",
        "        y_teste,\n",
        "        display_labels=class_names,\n",
        "        cmap=plt.cm.Blues,\n",
        "        normalize=normalize,\n",
        "    )\n",
        "    disp.ax_.set_title(title)\n",
        "\n",
        "    print(title)\n",
        "    print(disp.confusion_matrix)\n",
        "\n",
        "plt.show()"
      ],
      "metadata": {
        "id": "0zNxwSjpY9N8"
      },
      "execution_count": null,
      "outputs": []
    },
    {
      "cell_type": "markdown",
      "source": [
        "## Visualização da Árvore de Decisão"
      ],
      "metadata": {
        "id": "KT29YFsJfLvj"
      }
    },
    {
      "cell_type": "code",
      "source": [
        "from sklearn import tree\n",
        "#tree.plot_tree(arvore)\n",
        "#plt.show()\n",
        "\n",
        "plt.figure(figsize=(20,10))  # customize according to the size of your tree\n",
        "_ = tree.plot_tree(arvore, feature_names = X.columns, class_names=['tinto','branco'], filled=True, fontsize=12, rounded = True)\n",
        "plt.show()\n"
      ],
      "metadata": {
        "id": "7AmcjfONZbrA"
      },
      "execution_count": null,
      "outputs": []
    },
    {
      "cell_type": "markdown",
      "source": [
        "## Curva de Recall e Precisão"
      ],
      "metadata": {
        "id": "RQfNFR1sfQxz"
      }
    },
    {
      "cell_type": "code",
      "source": [
        "previsoes_arvore2 = arvore.predict(X_teste)\n",
        "previsoes_arvore2\n",
        "\n",
        "from sklearn.metrics import precision_recall_curve\n",
        "precisions, recalls, thresholds = precision_recall_curve(y_teste, previsoes_arvore2)\n",
        "\n",
        "fig, ax = plt.subplots(figsize = (20,8))\n",
        "plt.plot(thresholds, precisions[:-1], 'r--', label = 'Precisão')\n",
        "plt.plot(thresholds, recalls[:-1], 'g-', label = 'Recall')\n",
        "plt.xlabel('Threshold')\n",
        "plt.legend(loc = 'center right',fontsize = 20)\n",
        "plt.ylim([0,1])\n",
        "plt.title('Precisão x Recall', fontsize = 20)\n",
        "plt.show()"
      ],
      "metadata": {
        "id": "dR820sNZdGaM"
      },
      "execution_count": null,
      "outputs": []
    },
    {
      "cell_type": "markdown",
      "source": [
        "## Relatório de Métricas"
      ],
      "metadata": {
        "id": "uS3Jpj2ofXZx"
      }
    },
    {
      "cell_type": "markdown",
      "source": [
        "- **Acurácia**: indica uma performance geral do modelo. Dentre todas as classificações, quantas o modelo classificou corretamente;\n",
        "- **Precisão**: dentre todas as classificações de classe Positivo que o modelo fez, quantas estão corretas;\n",
        "- **Recall/Revocação/Sensibilidade**: dentre todas as situações de classe Positivo como valor esperado, quantas estão corretas;\n",
        "- **F1-Score**: média harmônica entre precisão e recall."
      ],
      "metadata": {
        "id": "t9Ru4AX0gIDs"
      }
    },
    {
      "cell_type": "code",
      "source": [
        "from sklearn.metrics import classification_report\n",
        "# relatório do modelo\n",
        "print('Relatório de classificação:\\n', classification_report(y_teste, previsoes_arvore2, digits=4))"
      ],
      "metadata": {
        "id": "lVuMiym_ebN1"
      },
      "execution_count": null,
      "outputs": []
    }
  ]
}